{
 "cells": [
  {
   "cell_type": "code",
   "execution_count": 1,
   "id": "initial_id",
   "metadata": {
    "collapsed": true,
    "ExecuteTime": {
     "end_time": "2024-02-29T22:20:21.189753Z",
     "start_time": "2024-02-29T22:20:17.675683Z"
    }
   },
   "outputs": [],
   "source": [
    "import logging\n",
    "import time\n",
    "import pandas as pd\n",
    "from datetime import datetime\n",
    "from iqoptionapi.stable_api import IQ_Option"
   ]
  },
  {
   "cell_type": "code",
   "outputs": [],
   "source": [
    "list_asset = []\n",
    "num_candles = 120\n",
    "balance = 0\n",
    "balance_win = 0"
   ],
   "metadata": {
    "collapsed": false,
    "ExecuteTime": {
     "end_time": "2024-02-29T22:20:21.213751Z",
     "start_time": "2024-02-29T22:20:21.201788Z"
    }
   },
   "id": "d5ca1bb53e7ec87a",
   "execution_count": 2
  },
  {
   "cell_type": "code",
   "outputs": [
    {
     "name": "stdout",
     "output_type": "stream",
     "text": [
      "Conectando...\n",
      "##### Primeira tentativa #####\n",
      "Status: True\n",
      "Balance: 9720\n"
     ]
    }
   ],
   "source": [
    "print(\"Conectando...\")\n",
    "Iq = IQ_Option(\"gggeeelt66612@gmail.com\",\"vSsUK6wM5DW8mLWfZ\")\n",
    "status, reason = Iq.connect()\n",
    "print('##### Primeira tentativa #####')\n",
    "print('Status:', status)\n",
    "balance = Iq.get_balance()\n",
    "print('Balance:', balance)"
   ],
   "metadata": {
    "collapsed": false,
    "ExecuteTime": {
     "end_time": "2024-02-29T22:20:23.961135Z",
     "start_time": "2024-02-29T22:20:21.223336Z"
    }
   },
   "id": "c094155de8843e68",
   "execution_count": 3
  },
  {
   "cell_type": "code",
   "outputs": [
    {
     "name": "stdout",
     "output_type": "stream",
     "text": [
      "get assets open\n"
     ]
    }
   ],
   "source": [
    "def get_assets_open():\n",
    "    global list_asset\n",
    "    list_asset.clear()\n",
    "    all_asset=Iq.get_all_open_time()\n",
    "    for type_asset, data in all_asset.items():\n",
    "        for Asset,value in data.items():\n",
    "            if type_asset == \"turbo\" and value[\"open\"]:\n",
    "               list_asset.append(Asset)\n",
    "    print(\"get assets open\")\n",
    "get_assets_open()"
   ],
   "metadata": {
    "collapsed": false,
    "ExecuteTime": {
     "end_time": "2024-02-29T22:20:27.576774Z",
     "start_time": "2024-02-29T22:20:23.971169Z"
    }
   },
   "id": "269b9c628e0c5516",
   "execution_count": 4
  },
  {
   "cell_type": "code",
   "outputs": [
    {
     "name": "stdout",
     "output_type": "stream",
     "text": [
      "EURGBP-OTC - Percentage call 35.83%\n",
      "EURUSD-OTC - Percentage call 47.5%\n",
      "GBPUSD-OTC - Percentage call 46.67%\n",
      "EURJPY-OTC - Percentage call 46.67%\n",
      "AUDCAD-OTC - Percentage put 49.17%\n",
      "NZDUSD-OTC - Percentage put 48.33%\n",
      "USDCHF-OTC - Percentage call 48.33%\n"
     ]
    }
   ],
   "source": [
    "def get_position(asset):\n",
    "    global num_candles\n",
    "    candles = Iq.get_candles(asset,60,num_candles,time.time())\n",
    "    df = pd.DataFrame(candles)\n",
    "    df['color'] = ['g' if close > open else 'r' for open, close in zip(df['open'], df['close'])]\n",
    "    count_r = df['color'].value_counts()['r']\n",
    "    count_g = df['color'].value_counts()['g']\n",
    "    action = None\n",
    "    prediction = None\n",
    "    percentage = 0\n",
    "    #print(\"{} - Count R: {} Count G: {}\".format(asset,count_r,count_g))\n",
    "    if count_r > count_g :\n",
    "        percentage = (count_g / num_candles) * 100\n",
    "        action = \"call\"\n",
    "        print(\"{} - Percentage call {}%\".format(asset,percentage.round(2)))\n",
    "    elif count_g > count_r :\n",
    "        percentage = (count_r / num_candles) * 100\n",
    "        action = \"put\"\n",
    "        print(\"{} - Percentage put {}%\".format(asset ,percentage.round(2)))\n",
    "    else:\n",
    "        print(\"{} - Percentage equal\".format(asset))\n",
    "    \n",
    "    if action is not None and percentage < 35:\n",
    "        last = df.tail(3)\n",
    "        try:\n",
    "            count_r = last['color'].value_counts()['r']\n",
    "        except Exception as e:\n",
    "            count_r = 0\n",
    "        if count_r == 3 or count_r == 2:\n",
    "            prediction = \"call\"\n",
    "        elif count_r == 1 or count_r == 0:\n",
    "            prediction = \"put\"\n",
    "        else:\n",
    "            prediction = None\n",
    "    else:\n",
    "        action = None\n",
    "    \n",
    "    if prediction == action:\n",
    "        return {\"action\": action, \"percentage\": percentage}\n",
    "    else:\n",
    "        return {\"action\": None, \"percentage\": percentage}\n",
    "    \n",
    "for asset in list_asset:\n",
    "    get_position(asset)"
   ],
   "metadata": {
    "collapsed": false,
    "ExecuteTime": {
     "end_time": "2024-02-29T22:20:29.645807Z",
     "start_time": "2024-02-29T22:20:27.585799Z"
    }
   },
   "id": "81f38b8cde49de5c",
   "execution_count": 5
  },
  {
   "cell_type": "code",
   "outputs": [],
   "source": [
    "def buy(asset, action):\n",
    "    check,id=Iq.buy(10,asset,action,1)\n",
    "    if check:\n",
    "        print(\"!buy!\")\n",
    "        balance_win = Iq.get_balance() - balance\n",
    "        print('Balance:', balance)\n",
    "        print('Balance Win:', balance_win)\n",
    "    else:\n",
    "        print(\"buy fail\")\n",
    "        get_assets_open()\n",
    "        \n",
    "        "
   ],
   "metadata": {
    "collapsed": false,
    "ExecuteTime": {
     "end_time": "2024-02-29T22:20:29.684511Z",
     "start_time": "2024-02-29T22:20:29.667808Z"
    }
   },
   "id": "886f519be17288bc",
   "execution_count": 6
  },
  {
   "cell_type": "code",
   "outputs": [],
   "source": [
    "def is_time ():\n",
    "    minutos = float(((datetime.now()).strftime('%M.%S'))[1:])\n",
    "    # segundos = float(((datetime.now()).strftime('%S')))\n",
    "    # print('minutos son: \\n', minutos)\n",
    "    # print('segundos son: \\n', segundos)\n",
    "    enter = False\n",
    "    if minutos == 4.58 or minutos == 9.58:\n",
    "        enter = True\n",
    "    # if segundos == 28.00 or segundos == 58.0:\n",
    "    # if segundos == 58.0:\n",
    "    #     enter = True\n",
    "    return enter\n"
   ],
   "metadata": {
    "collapsed": false,
    "ExecuteTime": {
     "end_time": "2024-02-29T22:20:29.713186Z",
     "start_time": "2024-02-29T22:20:29.691530Z"
    }
   },
   "id": "367b7330fad42018",
   "execution_count": 7
  },
  {
   "cell_type": "code",
   "outputs": [
    {
     "name": "stdout",
     "output_type": "stream",
     "text": [
      "check time\n",
      "EURGBP-OTC - Percentage call 35.83%\n",
      "EURUSD-OTC - Percentage call 47.5%\n",
      "GBPUSD-OTC - Percentage call 48.33%\n",
      "EURJPY-OTC - Percentage call 45.83%\n",
      "AUDCAD-OTC - Percentage put 47.5%\n",
      "NZDUSD-OTC - Percentage put 48.33%\n",
      "USDCHF-OTC - Percentage equal\n",
      "check time\n",
      "EURGBP-OTC - Percentage call 34.17%\n",
      "EURUSD-OTC - Percentage call 45.0%\n",
      "GBPUSD-OTC - Percentage call 48.33%\n",
      "EURJPY-OTC - Percentage call 46.67%\n",
      "AUDCAD-OTC - Percentage put 45.83%\n",
      "NZDUSD-OTC - Percentage put 49.17%\n",
      "USDCHF-OTC - Percentage equal\n",
      "check time\n",
      "EURGBP-OTC - Percentage call 34.17%\n",
      "!buy!\n",
      "Balance: 9720\n",
      "Balance Win: -10\n",
      "check time\n",
      "EURGBP-OTC - Percentage call 30.83%\n",
      "!buy!\n",
      "Balance: 9720\n",
      "Balance Win: -70\n",
      "check time\n",
      "EURGBP-OTC - Percentage call 29.17%\n"
     ]
    },
    {
     "name": "stderr",
     "output_type": "stream",
     "text": [
      "ERROR:root:**warning** buy late 5 sec\n"
     ]
    },
    {
     "name": "stdout",
     "output_type": "stream",
     "text": [
      "buy fail\n",
      "get assets open\n",
      "check time\n",
      "EURGBP-OTC - Percentage call 31.67%\n",
      "AUDCAD-OTC - Percentage put 45.83%\n",
      "GBPUSD-OTC - Percentage call 45.83%\n",
      "NZDUSD-OTC - Percentage call 49.17%\n",
      "EURJPY-OTC - Percentage call 48.33%\n",
      "USDCHF-OTC - Percentage put 48.33%\n",
      "EURUSD-OTC - Percentage call 43.33%\n",
      "check time\n",
      "EURGBP-OTC - Percentage call 30.0%\n",
      "!buy!\n",
      "Balance: 9720\n",
      "Balance Win: -44\n",
      "check time\n",
      "EURGBP-OTC - Percentage call 28.33%\n",
      "!buy!\n",
      "Balance: 9720\n",
      "Balance Win: -1.5\n",
      "check time\n",
      "EURGBP-OTC - Percentage call 29.17%\n",
      "AUDCAD-OTC - Percentage equal\n",
      "GBPUSD-OTC - Percentage call 48.33%\n",
      "NZDUSD-OTC - Percentage call 48.33%\n",
      "EURJPY-OTC - Percentage call 46.67%\n",
      "USDCHF-OTC - Percentage call 48.33%\n",
      "EURUSD-OTC - Percentage call 45.0%\n",
      "check time\n",
      "EURGBP-OTC - Percentage call 30.0%\n",
      "AUDCAD-OTC - Percentage call 49.17%\n",
      "GBPUSD-OTC - Percentage call 47.5%\n",
      "NZDUSD-OTC - Percentage call 47.5%\n",
      "EURJPY-OTC - Percentage call 45.83%\n",
      "USDCHF-OTC - Percentage call 48.33%\n",
      "EURUSD-OTC - Percentage call 43.33%\n",
      "check time\n",
      "EURGBP-OTC - Percentage call 32.5%\n",
      "AUDCAD-OTC - Percentage call 47.5%\n",
      "GBPUSD-OTC - Percentage call 46.67%\n",
      "NZDUSD-OTC - Percentage call 44.17%\n",
      "EURJPY-OTC - Percentage call 48.33%\n",
      "USDCHF-OTC - Percentage call 47.5%\n",
      "EURUSD-OTC - Percentage call 41.67%\n",
      "check time\n",
      "EURGBP-OTC - Percentage call 34.17%\n",
      "AUDCAD-OTC - Percentage call 47.5%\n",
      "GBPUSD-OTC - Percentage call 45.83%\n",
      "NZDUSD-OTC - Percentage call 43.33%\n",
      "EURJPY-OTC - Percentage equal\n",
      "USDCHF-OTC - Percentage call 48.33%\n",
      "EURUSD-OTC - Percentage call 42.5%\n",
      "check time\n",
      "EURGBP-OTC - Percentage call 34.17%\n",
      "!buy!\n",
      "Balance: 9720\n",
      "Balance Win: 154.5\n",
      "check time\n",
      "EURGBP-OTC - Percentage call 34.17%\n",
      "AUDCAD-OTC - Percentage call 48.33%\n",
      "GBPUSD-OTC - Percentage call 46.67%\n",
      "NZDUSD-OTC - Percentage call 45.83%\n",
      "EURJPY-OTC - Percentage call 48.33%\n",
      "USDCHF-OTC - Percentage put 48.33%\n",
      "EURUSD-OTC - Percentage call 43.33%\n",
      "check time\n",
      "EURGBP-OTC - Percentage call 33.33%\n",
      "!buy!\n",
      "Balance: 9720\n",
      "Balance Win: 190.5\n",
      "check time\n",
      "EURGBP-OTC - Percentage call 33.33%\n",
      "!buy!\n",
      "Balance: 9720\n",
      "Balance Win: 265.5\n",
      "check time\n",
      "EURGBP-OTC - Percentage call 33.33%\n",
      "!buy!\n",
      "Balance: 9720\n",
      "Balance Win: 216.5\n",
      "check time\n",
      "EURGBP-OTC - Percentage call 36.67%\n",
      "AUDCAD-OTC - Percentage call 48.33%\n",
      "GBPUSD-OTC - Percentage call 45.0%\n",
      "NZDUSD-OTC - Percentage call 40.83%\n",
      "EURJPY-OTC - Percentage equal\n",
      "USDCHF-OTC - Percentage call 48.33%\n",
      "EURUSD-OTC - Percentage call 44.17%\n"
     ]
    },
    {
     "name": "stderr",
     "output_type": "stream",
     "text": [
      "ERROR:iqoptionapi.ws.client:Connection is already closed.\n",
      "ERROR:root:**error** get_candles need reconnect\n",
      "ERROR:iqoptionapi.ws.client:[Errno 11001] getaddrinfo failed\n"
     ]
    },
    {
     "name": "stdout",
     "output_type": "stream",
     "text": [
      "check time\n"
     ]
    },
    {
     "ename": "JSONDecodeError",
     "evalue": "Expecting value: line 1 column 2 (char 1)",
     "output_type": "error",
     "traceback": [
      "\u001B[1;31m---------------------------------------------------------------------------\u001B[0m",
      "\u001B[1;31mJSONDecodeError\u001B[0m                           Traceback (most recent call last)",
      "Cell \u001B[1;32mIn[8], line 5\u001B[0m\n\u001B[0;32m      3\u001B[0m \u001B[38;5;28mprint\u001B[39m(\u001B[38;5;124m\"\u001B[39m\u001B[38;5;124mcheck time\u001B[39m\u001B[38;5;124m\"\u001B[39m)\n\u001B[0;32m      4\u001B[0m \u001B[38;5;28;01mfor\u001B[39;00m asset \u001B[38;5;129;01min\u001B[39;00m list_asset:\n\u001B[1;32m----> 5\u001B[0m     result \u001B[38;5;241m=\u001B[39m get_position(asset)\n\u001B[0;32m      6\u001B[0m     \u001B[38;5;28;01mif\u001B[39;00m result[\u001B[38;5;124m\"\u001B[39m\u001B[38;5;124maction\u001B[39m\u001B[38;5;124m\"\u001B[39m] \u001B[38;5;129;01mis\u001B[39;00m \u001B[38;5;129;01mnot\u001B[39;00m \u001B[38;5;28;01mNone\u001B[39;00m:\n\u001B[0;32m      7\u001B[0m         buy(asset, result[\u001B[38;5;124m\"\u001B[39m\u001B[38;5;124maction\u001B[39m\u001B[38;5;124m\"\u001B[39m])\n",
      "Cell \u001B[1;32mIn[5], line 3\u001B[0m, in \u001B[0;36mget_position\u001B[1;34m(asset)\u001B[0m\n\u001B[0;32m      1\u001B[0m \u001B[38;5;28;01mdef\u001B[39;00m \u001B[38;5;21mget_position\u001B[39m(asset):\n\u001B[0;32m      2\u001B[0m     \u001B[38;5;28;01mglobal\u001B[39;00m num_candles\n\u001B[1;32m----> 3\u001B[0m     candles \u001B[38;5;241m=\u001B[39m Iq\u001B[38;5;241m.\u001B[39mget_candles(asset,\u001B[38;5;241m60\u001B[39m,num_candles,time\u001B[38;5;241m.\u001B[39mtime())\n\u001B[0;32m      4\u001B[0m     df \u001B[38;5;241m=\u001B[39m pd\u001B[38;5;241m.\u001B[39mDataFrame(candles)\n\u001B[0;32m      5\u001B[0m     df[\u001B[38;5;124m'\u001B[39m\u001B[38;5;124mcolor\u001B[39m\u001B[38;5;124m'\u001B[39m] \u001B[38;5;241m=\u001B[39m [\u001B[38;5;124m'\u001B[39m\u001B[38;5;124mg\u001B[39m\u001B[38;5;124m'\u001B[39m \u001B[38;5;28;01mif\u001B[39;00m close \u001B[38;5;241m>\u001B[39m \u001B[38;5;28mopen\u001B[39m \u001B[38;5;28;01melse\u001B[39;00m \u001B[38;5;124m'\u001B[39m\u001B[38;5;124mr\u001B[39m\u001B[38;5;124m'\u001B[39m \u001B[38;5;28;01mfor\u001B[39;00m \u001B[38;5;28mopen\u001B[39m, close \u001B[38;5;129;01min\u001B[39;00m \u001B[38;5;28mzip\u001B[39m(df[\u001B[38;5;124m'\u001B[39m\u001B[38;5;124mopen\u001B[39m\u001B[38;5;124m'\u001B[39m], df[\u001B[38;5;124m'\u001B[39m\u001B[38;5;124mclose\u001B[39m\u001B[38;5;124m'\u001B[39m])]\n",
      "File \u001B[1;32m~\\anaconda3\\envs\\TradeGenius\\Lib\\site-packages\\iqoptionapi\\stable_api.py:527\u001B[0m, in \u001B[0;36mIQ_Option.get_candles\u001B[1;34m(self, ACTIVES, interval, count, endtime)\u001B[0m\n\u001B[0;32m    525\u001B[0m     \u001B[38;5;28;01mexcept\u001B[39;00m:\n\u001B[0;32m    526\u001B[0m         logging\u001B[38;5;241m.\u001B[39merror(\u001B[38;5;124m'\u001B[39m\u001B[38;5;124m**error** get_candles need reconnect\u001B[39m\u001B[38;5;124m'\u001B[39m)\n\u001B[1;32m--> 527\u001B[0m         \u001B[38;5;28mself\u001B[39m\u001B[38;5;241m.\u001B[39mconnect()\n\u001B[0;32m    529\u001B[0m \u001B[38;5;28;01mreturn\u001B[39;00m \u001B[38;5;28mself\u001B[39m\u001B[38;5;241m.\u001B[39mapi\u001B[38;5;241m.\u001B[39mcandles\u001B[38;5;241m.\u001B[39mcandles_data\n",
      "File \u001B[1;32m~\\anaconda3\\envs\\TradeGenius\\Lib\\site-packages\\iqoptionapi\\stable_api.py:142\u001B[0m, in \u001B[0;36mIQ_Option.connect\u001B[1;34m(self, sms_code)\u001B[0m\n\u001B[0;32m    140\u001B[0m     \u001B[38;5;28;01mreturn\u001B[39;00m \u001B[38;5;28;01mTrue\u001B[39;00m, \u001B[38;5;28;01mNone\u001B[39;00m\n\u001B[0;32m    141\u001B[0m \u001B[38;5;28;01melse\u001B[39;00m:\n\u001B[1;32m--> 142\u001B[0m     \u001B[38;5;28;01mif\u001B[39;00m json\u001B[38;5;241m.\u001B[39mloads(reason)[\u001B[38;5;124m'\u001B[39m\u001B[38;5;124mcode\u001B[39m\u001B[38;5;124m'\u001B[39m] \u001B[38;5;241m==\u001B[39m \u001B[38;5;124m'\u001B[39m\u001B[38;5;124mverify\u001B[39m\u001B[38;5;124m'\u001B[39m:\n\u001B[0;32m    143\u001B[0m         response \u001B[38;5;241m=\u001B[39m \u001B[38;5;28mself\u001B[39m\u001B[38;5;241m.\u001B[39mapi\u001B[38;5;241m.\u001B[39msend_sms_code(json\u001B[38;5;241m.\u001B[39mloads(reason)[\u001B[38;5;124m'\u001B[39m\u001B[38;5;124mtoken\u001B[39m\u001B[38;5;124m'\u001B[39m])\n\u001B[0;32m    145\u001B[0m         \u001B[38;5;28;01mif\u001B[39;00m response\u001B[38;5;241m.\u001B[39mjson()[\u001B[38;5;124m'\u001B[39m\u001B[38;5;124mcode\u001B[39m\u001B[38;5;124m'\u001B[39m] \u001B[38;5;241m!=\u001B[39m \u001B[38;5;124m'\u001B[39m\u001B[38;5;124msuccess\u001B[39m\u001B[38;5;124m'\u001B[39m:\n",
      "File \u001B[1;32m~\\anaconda3\\envs\\TradeGenius\\Lib\\json\\__init__.py:346\u001B[0m, in \u001B[0;36mloads\u001B[1;34m(s, cls, object_hook, parse_float, parse_int, parse_constant, object_pairs_hook, **kw)\u001B[0m\n\u001B[0;32m    341\u001B[0m     s \u001B[38;5;241m=\u001B[39m s\u001B[38;5;241m.\u001B[39mdecode(detect_encoding(s), \u001B[38;5;124m'\u001B[39m\u001B[38;5;124msurrogatepass\u001B[39m\u001B[38;5;124m'\u001B[39m)\n\u001B[0;32m    343\u001B[0m \u001B[38;5;28;01mif\u001B[39;00m (\u001B[38;5;28mcls\u001B[39m \u001B[38;5;129;01mis\u001B[39;00m \u001B[38;5;28;01mNone\u001B[39;00m \u001B[38;5;129;01mand\u001B[39;00m object_hook \u001B[38;5;129;01mis\u001B[39;00m \u001B[38;5;28;01mNone\u001B[39;00m \u001B[38;5;129;01mand\u001B[39;00m\n\u001B[0;32m    344\u001B[0m         parse_int \u001B[38;5;129;01mis\u001B[39;00m \u001B[38;5;28;01mNone\u001B[39;00m \u001B[38;5;129;01mand\u001B[39;00m parse_float \u001B[38;5;129;01mis\u001B[39;00m \u001B[38;5;28;01mNone\u001B[39;00m \u001B[38;5;129;01mand\u001B[39;00m\n\u001B[0;32m    345\u001B[0m         parse_constant \u001B[38;5;129;01mis\u001B[39;00m \u001B[38;5;28;01mNone\u001B[39;00m \u001B[38;5;129;01mand\u001B[39;00m object_pairs_hook \u001B[38;5;129;01mis\u001B[39;00m \u001B[38;5;28;01mNone\u001B[39;00m \u001B[38;5;129;01mand\u001B[39;00m \u001B[38;5;129;01mnot\u001B[39;00m kw):\n\u001B[1;32m--> 346\u001B[0m     \u001B[38;5;28;01mreturn\u001B[39;00m _default_decoder\u001B[38;5;241m.\u001B[39mdecode(s)\n\u001B[0;32m    347\u001B[0m \u001B[38;5;28;01mif\u001B[39;00m \u001B[38;5;28mcls\u001B[39m \u001B[38;5;129;01mis\u001B[39;00m \u001B[38;5;28;01mNone\u001B[39;00m:\n\u001B[0;32m    348\u001B[0m     \u001B[38;5;28mcls\u001B[39m \u001B[38;5;241m=\u001B[39m JSONDecoder\n",
      "File \u001B[1;32m~\\anaconda3\\envs\\TradeGenius\\Lib\\json\\decoder.py:337\u001B[0m, in \u001B[0;36mJSONDecoder.decode\u001B[1;34m(self, s, _w)\u001B[0m\n\u001B[0;32m    332\u001B[0m \u001B[38;5;28;01mdef\u001B[39;00m \u001B[38;5;21mdecode\u001B[39m(\u001B[38;5;28mself\u001B[39m, s, _w\u001B[38;5;241m=\u001B[39mWHITESPACE\u001B[38;5;241m.\u001B[39mmatch):\n\u001B[0;32m    333\u001B[0m \u001B[38;5;250m    \u001B[39m\u001B[38;5;124;03m\"\"\"Return the Python representation of ``s`` (a ``str`` instance\u001B[39;00m\n\u001B[0;32m    334\u001B[0m \u001B[38;5;124;03m    containing a JSON document).\u001B[39;00m\n\u001B[0;32m    335\u001B[0m \n\u001B[0;32m    336\u001B[0m \u001B[38;5;124;03m    \"\"\"\u001B[39;00m\n\u001B[1;32m--> 337\u001B[0m     obj, end \u001B[38;5;241m=\u001B[39m \u001B[38;5;28mself\u001B[39m\u001B[38;5;241m.\u001B[39mraw_decode(s, idx\u001B[38;5;241m=\u001B[39m_w(s, \u001B[38;5;241m0\u001B[39m)\u001B[38;5;241m.\u001B[39mend())\n\u001B[0;32m    338\u001B[0m     end \u001B[38;5;241m=\u001B[39m _w(s, end)\u001B[38;5;241m.\u001B[39mend()\n\u001B[0;32m    339\u001B[0m     \u001B[38;5;28;01mif\u001B[39;00m end \u001B[38;5;241m!=\u001B[39m \u001B[38;5;28mlen\u001B[39m(s):\n",
      "File \u001B[1;32m~\\anaconda3\\envs\\TradeGenius\\Lib\\json\\decoder.py:355\u001B[0m, in \u001B[0;36mJSONDecoder.raw_decode\u001B[1;34m(self, s, idx)\u001B[0m\n\u001B[0;32m    353\u001B[0m     obj, end \u001B[38;5;241m=\u001B[39m \u001B[38;5;28mself\u001B[39m\u001B[38;5;241m.\u001B[39mscan_once(s, idx)\n\u001B[0;32m    354\u001B[0m \u001B[38;5;28;01mexcept\u001B[39;00m \u001B[38;5;167;01mStopIteration\u001B[39;00m \u001B[38;5;28;01mas\u001B[39;00m err:\n\u001B[1;32m--> 355\u001B[0m     \u001B[38;5;28;01mraise\u001B[39;00m JSONDecodeError(\u001B[38;5;124m\"\u001B[39m\u001B[38;5;124mExpecting value\u001B[39m\u001B[38;5;124m\"\u001B[39m, s, err\u001B[38;5;241m.\u001B[39mvalue) \u001B[38;5;28;01mfrom\u001B[39;00m \u001B[38;5;28;01mNone\u001B[39;00m\n\u001B[0;32m    356\u001B[0m \u001B[38;5;28;01mreturn\u001B[39;00m obj, end\n",
      "\u001B[1;31mJSONDecodeError\u001B[0m: Expecting value: line 1 column 2 (char 1)"
     ]
    }
   ],
   "source": [
    "while True:\n",
    "    if is_time():\n",
    "        print(\"check time\")\n",
    "        for asset in list_asset:\n",
    "            result = get_position(asset)\n",
    "            if result[\"action\"] is not None:\n",
    "                buy(asset, result[\"action\"])\n",
    "                break"
   ],
   "metadata": {
    "collapsed": false,
    "ExecuteTime": {
     "end_time": "2024-02-29T23:55:06.320034Z",
     "start_time": "2024-02-29T22:20:29.761781Z"
    }
   },
   "id": "df5ac9a71cd8ca9d",
   "execution_count": 8
  },
  {
   "cell_type": "code",
   "outputs": [],
   "source": [],
   "metadata": {
    "collapsed": false
   },
   "id": "ed26358a77e6930f"
  }
 ],
 "metadata": {
  "kernelspec": {
   "display_name": "Python 3",
   "language": "python",
   "name": "python3"
  },
  "language_info": {
   "codemirror_mode": {
    "name": "ipython",
    "version": 2
   },
   "file_extension": ".py",
   "mimetype": "text/x-python",
   "name": "python",
   "nbconvert_exporter": "python",
   "pygments_lexer": "ipython2",
   "version": "2.7.6"
  }
 },
 "nbformat": 4,
 "nbformat_minor": 5
}
