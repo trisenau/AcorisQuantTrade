{
 "cells": [
  {
   "cell_type": "code",
   "execution_count": 1,
   "id": "initial_id",
   "metadata": {
    "collapsed": true,
    "ExecuteTime": {
     "end_time": "2024-02-29T14:58:04.584964Z",
     "start_time": "2024-02-29T14:57:49.936573Z"
    }
   },
   "outputs": [],
   "source": [
    "import logging\n",
    "import time\n",
    "import pandas as pd\n",
    "from datetime import datetime\n",
    "from iqoptionapi.stable_api import IQ_Option"
   ]
  },
  {
   "cell_type": "code",
   "outputs": [],
   "source": [
    "list_asset = []\n",
    "num_candles = 120\n",
    "balance = 0\n",
    "balance_win = 0"
   ],
   "metadata": {
    "collapsed": false,
    "ExecuteTime": {
     "end_time": "2024-02-29T14:58:04.601850Z",
     "start_time": "2024-02-29T14:58:04.590986Z"
    }
   },
   "id": "3a3e2aa428029214",
   "execution_count": 2
  },
  {
   "cell_type": "code",
   "outputs": [
    {
     "name": "stdout",
     "output_type": "stream",
     "text": [
      "Conectando...\n"
     ]
    },
    {
     "name": "stderr",
     "output_type": "stream",
     "text": [
      "\n",
      "KeyboardInterrupt\n",
      "\n"
     ]
    }
   ],
   "source": [
    "print(\"Conectando...\")\n",
    "Iq = IQ_Option(\"gggeeelt66612@gmail.com\",\"vSsUK6wM5DW8mLWfZ\")\n",
    "status, reason = Iq.connect()\n",
    "print('##### Primeira tentativa #####')\n",
    "print('Status:', status)\n",
    "balance = Iq.get_balance()\n",
    "print('Balance:', balance)"
   ],
   "metadata": {
    "collapsed": false,
    "ExecuteTime": {
     "end_time": "2024-02-29T14:58:08.460287Z",
     "start_time": "2024-02-29T14:58:04.613344Z"
    }
   },
   "id": "ebecd63076821648",
   "execution_count": 3
  },
  {
   "cell_type": "code",
   "outputs": [],
   "source": [],
   "metadata": {
    "collapsed": false
   },
   "id": "a6b3fea1d708989a"
  }
 ],
 "metadata": {
  "kernelspec": {
   "display_name": "Python 3",
   "language": "python",
   "name": "python3"
  },
  "language_info": {
   "codemirror_mode": {
    "name": "ipython",
    "version": 2
   },
   "file_extension": ".py",
   "mimetype": "text/x-python",
   "name": "python",
   "nbconvert_exporter": "python",
   "pygments_lexer": "ipython2",
   "version": "2.7.6"
  }
 },
 "nbformat": 4,
 "nbformat_minor": 5
}
